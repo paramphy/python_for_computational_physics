{
 "cells": [
  {
   "cell_type": "markdown",
   "metadata": {},
   "source": [
    "# Schrodinger Solver"
   ]
  },
  {
   "cell_type": "code",
   "execution_count": null,
   "metadata": {
    "collapsed": false
   },
   "outputs": [],
   "source": [
    "%matplotlib notebook\n",
    "import sys\n",
    "ver=sys.version_info.major\n",
    "if ver==2:\n",
    "    from utils2 import *\n",
    "elif ver==3:\n",
    "    from utils3 import *\n",
    "else:\n",
    "    print(\"Python version not recognized. Python 2.5 or greater required.\")\n",
    "import numpy as np"
   ]
  },
  {
   "cell_type": "markdown",
   "metadata": {},
   "source": [
    "## Note about units\n",
    "We will be using atomic units throughout."
   ]
  },
  {
   "cell_type": "code",
   "execution_count": null,
   "metadata": {
    "collapsed": true
   },
   "outputs": [],
   "source": [
    "# atomic units\n",
    "hbar=1.0\n",
    "m=1.0\n",
    "#set precision of numerical approximation\n",
    "steps=2000"
   ]
  },
  {
   "cell_type": "markdown",
   "metadata": {},
   "source": [
    "## Particle in a finite well"
   ]
  },
  {
   "cell_type": "code",
   "execution_count": null,
   "metadata": {
    "collapsed": false
   },
   "outputs": [],
   "source": [
    "########\n",
    "# PARTICLE IN A FINITE WELL OF WIDTH (W) AND DEPTH (D)\n",
    "########\n",
    "Case=2\n",
    "########\n",
    "# INPUT\n",
    "########\n",
    "# set well depth and width\n",
    "A=1.0 # this value must be between 1 and 15\n",
    "D=100.0 # this value must be between 20 and 500\n",
    "########\n",
    "# CODE\n",
    "########\n",
    "# divide by two so a well from -W to W is of input width\n",
    "W=A/2.0\n",
    "# create x-vector from -W to W\n",
    "xvec=np.linspace(-A,A,steps,dtype=np.float_)\n",
    "# get step size\n",
    "h=xvec[1]-xvec[0]\n",
    "# create the potential from step function\n",
    "U=-D*(step_func(xvec+W)-step_func(xvec-W))\n",
    "# create Laplacian via 3-point finite-difference method\n",
    "Laplacian=(-2.0*np.diag(np.ones(steps))+np.diag(np.ones(steps-1),1)\\\n",
    "    +np.diag(np.ones(steps-1),-1))/(float)(h**2)\n",
    "# create the Hamiltonian\n",
    "Hamiltonian=np.zeros((steps,steps))\n",
    "[i,j]=np.indices(Hamiltonian.shape)\n",
    "Hamiltonian[i==j]=U\n",
    "Hamiltonian+=(-0.5)*((hbar**2)/m)*Laplacian\n",
    "# diagonalize the Hamiltonian yielding the wavefunctions and energies\n",
    "E,V=diagonalize_hamiltonian(Hamiltonian)\n",
    "# determine number of energy levels to plot (n)\n",
    "n=0\n",
    "while E[n]<0:\n",
    "    n+=1\n",
    "# print output\n",
    "output(Case,['Well Width','Well Depth'],[W*2,D],E,n)\n",
    "# create plot\n",
    "finite_well_plot(E,V,xvec,steps,n,Case,U)"
   ]
  },
  {
   "cell_type": "code",
   "execution_count": null,
   "metadata": {
    "collapsed": true
   },
   "outputs": [],
   "source": []
  }
 ],
 "metadata": {
  "anaconda-cloud": {},
  "kernelspec": {
   "display_name": "Python [Root]",
   "language": "python",
   "name": "Python [Root]"
  },
  "language_info": {
   "codemirror_mode": {
    "name": "ipython",
    "version": 3
   },
   "file_extension": ".py",
   "mimetype": "text/x-python",
   "name": "python",
   "nbconvert_exporter": "python",
   "pygments_lexer": "ipython3",
   "version": "3.5.2"
  }
 },
 "nbformat": 4,
 "nbformat_minor": 0
}
