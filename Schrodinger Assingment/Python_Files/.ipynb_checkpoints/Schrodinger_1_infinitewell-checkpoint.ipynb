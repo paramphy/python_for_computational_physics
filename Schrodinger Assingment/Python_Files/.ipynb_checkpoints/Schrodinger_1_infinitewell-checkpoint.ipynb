{
 "cells": [
  {
   "cell_type": "markdown",
   "metadata": {},
   "source": [
    "# Schrodinger Solver"
   ]
  },
  {
   "cell_type": "code",
   "execution_count": 1,
   "metadata": {
    "collapsed": false
   },
   "outputs": [],
   "source": [
    "%matplotlib inline\n",
    "import sys\n",
    "ver = sys.version_info.major\n",
    "if ver == 2:\n",
    "    from utils2 import *\n",
    "elif ver == 3:\n",
    "    from utils3 import *\n",
    "else:\n",
    "    print(\"Python version not recognized. Python 2.5 or greater required.\")\n",
    "import numpy as np"
   ]
  },
  {
   "cell_type": "markdown",
   "metadata": {},
   "source": [
    "## Note about units\n",
    "We will be using atomic units throughout."
   ]
  },
  {
   "cell_type": "code",
   "execution_count": 2,
   "metadata": {
    "collapsed": true
   },
   "outputs": [],
   "source": [
    "# atomic units\n",
    "hbar = 1.0\n",
    "m = 1.0\n",
    "#set precision of numerical approximation\n",
    "steps = 2000"
   ]
  },
  {
   "cell_type": "markdown",
   "metadata": {},
   "source": [
    "## Particle in an infinite potential well"
   ]
  },
  {
   "cell_type": "code",
   "execution_count": null,
   "metadata": {
    "collapsed": false,
    "scrolled": false
   },
   "outputs": [
    {
     "name": "stdout",
     "output_type": "stream",
     "text": [
      "\n",
      "*******************************************************************************\n",
      "                           Schrodinger Solver Output\n",
      "                        Matthew Srnec and Shiv Upadhyay\n",
      "*******************************************************************************\n",
      "                    Particle in an infinite potential well\n",
      "\n",
      "\t\tInput:\n",
      "                               Well Width : 0.5\n",
      "                      Number of wavefunctions to plot : 7\n",
      "\n",
      "\t\t7 lowest Bound States:\n",
      "                             E(0) = 4.92494144669\n",
      "                             E(1) = 19.6997536473\n",
      "                             E(2) = 44.3244001827\n",
      "                             E(3) = 78.7988203544\n",
      "                             E(4) = 123.122929186\n",
      "                             E(5) = 177.296617421\n",
      "                             E(6) = 241.319751524\n",
      "*******************************************************************************\n",
      "\n"
     ]
    }
   ],
   "source": [
    "########\n",
    "# PARTICLE IN AN INFINITE POTENTIAL WELL\n",
    "########\n",
    "Case = 1\n",
    "########\n",
    "# INPUT\n",
    "########\n",
    "# set well width and number of wave functions desired\n",
    "W = 1.0\n",
    "n = 7\n",
    "########\n",
    "# CODE\n",
    "########\n",
    "# divide by two so a well from -W to W is of input width\n",
    "W = W / 2.0\n",
    "# create x-vector from -W to W\n",
    "xvec = np.linspace(-W,W,steps,dtype=np.float_)\n",
    "# get step size\n",
    "h = xvec[1] - xvec[0]\n",
    "# create Laplacian via 3 point finite-difference method\n",
    "Laplacian=(-2.0 * np.diag(np.ones(steps)) + np.diag(np.ones(steps - 1),1)\\\n",
    "    + np.diag(np.ones(steps - 1),-1)) / (float)(h ** 2)\n",
    "# create Hamiltonian\n",
    "Hamiltonian=((-0.5 * (hbar**2) / m)) * Laplacian\n",
    "# diagonalize the Hamiltonian yielding the wavefunctions and energies\n",
    "E,V = diagonalize_hamiltonian(Hamiltonian)\n",
    "# print output\n",
    "output(Case,['Well Width','Number of wavefunctions to plot'],[W,n],E,n)\n",
    "# create plot\n",
    "infinite_well_plot(E,V,xvec,W,steps,n,Case)"
   ]
  }
 ],
 "metadata": {
  "kernelspec": {
   "display_name": "Python 2",
   "language": "python",
   "name": "python2"
  },
  "language_info": {
   "codemirror_mode": {
    "name": "ipython",
    "version": 2
   },
   "file_extension": ".py",
   "mimetype": "text/x-python",
   "name": "python",
   "nbconvert_exporter": "python",
   "pygments_lexer": "ipython2",
   "version": "2.7.11"
  }
 },
 "nbformat": 4,
 "nbformat_minor": 0
}
