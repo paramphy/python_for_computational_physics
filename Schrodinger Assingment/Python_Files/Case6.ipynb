{
 "cells": [
  {
   "cell_type": "markdown",
   "metadata": {},
   "source": [
    "# Schrodinger Solver"
   ]
  },
  {
   "cell_type": "code",
   "execution_count": null,
   "metadata": {
    "collapsed": false
   },
   "outputs": [],
   "source": [
    "%matplotlib inline\n",
    "import sys\n",
    "ver=sys.version_info.major\n",
    "if ver==2:\n",
    "    from utils2 import *\n",
    "elif ver==3:\n",
    "    from utils3 import *\n",
    "else:\n",
    "    print(\"Python version not recognized. Python 2.5 or greater required.\")\n",
    "import numpy as np"
   ]
  },
  {
   "cell_type": "markdown",
   "metadata": {},
   "source": [
    "## Note about units\n",
    "We will be using atomic units throughout."
   ]
  },
  {
   "cell_type": "code",
   "execution_count": null,
   "metadata": {
    "collapsed": true
   },
   "outputs": [],
   "source": [
    "# atomic units\n",
    "hbar=1.0\n",
    "m=1.0\n",
    "#set precision of numerical approximation\n",
    "steps=2000"
   ]
  },
  {
   "cell_type": "markdown",
   "metadata": {},
   "source": [
    "## Particle in Morse Well"
   ]
  },
  {
   "cell_type": "code",
   "execution_count": null,
   "metadata": {
    "collapsed": false
   },
   "outputs": [],
   "source": [
    "########\n",
    "# PARTICLE IN A MORSE WELL OF DEPTH (D) WITH A FORCE CONSTANT (omega)\n",
    "########\n",
    "Case=6\n",
    "########\n",
    "# INPUT\n",
    "########\n",
    "# set force constant and depth of morse well\n",
    "omega=0.1 # this value must be between 0.05 and 1.4\n",
    "D=4.0 # this value must be between 2 and 15\n",
    "########\n",
    "# CODE\n",
    "########\n",
    "# create the potential from morse potential function\n",
    "xvec,h,U=morse_potential(omega,D,steps)\n",
    "# create Laplacian via 3-point finite-difference method\n",
    "Laplacian=(-2.0*np.diag(np.ones(steps))+np.diag(np.ones(steps-1),1)+\\\n",
    "    np.diag(np.ones(steps-1),-1))/(float)(h**2)\n",
    "# create the Hamiltonian\n",
    "Hamiltonian=np.zeros((steps,steps))\n",
    "[i,j]=np.indices(Hamiltonian.shape)\n",
    "Hamiltonian[i==j]=U\n",
    "Hamiltonian+=(-0.5)*((hbar**2)/m)*Laplacian\n",
    "# diagonalize the Hamiltonian yielding the wavefunctions and energies\n",
    "E,V=diagonalize_hamiltonian(Hamiltonian)\n",
    "# determine number of energy levels to plot (n)\n",
    "n=0\n",
    "while E[n]<0:\n",
    "    n+=1\n",
    "# print output\n",
    "output(Case,['Force Constant','Depth'],[omega,D],E,n)\n",
    "# create plot\n",
    "finite_well_plot(E,V,xvec,steps,n,Case,U)"
   ]
  },
  {
   "cell_type": "code",
   "execution_count": null,
   "metadata": {
    "collapsed": true
   },
   "outputs": [],
   "source": []
  }
 ],
 "metadata": {
  "anaconda-cloud": {},
  "kernelspec": {
   "display_name": "Python [Root]",
   "language": "python",
   "name": "Python [Root]"
  },
  "language_info": {
   "codemirror_mode": {
    "name": "ipython",
    "version": 3
   },
   "file_extension": ".py",
   "mimetype": "text/x-python",
   "name": "python",
   "nbconvert_exporter": "python",
   "pygments_lexer": "ipython3",
   "version": "3.5.2"
  }
 },
 "nbformat": 4,
 "nbformat_minor": 0
}
